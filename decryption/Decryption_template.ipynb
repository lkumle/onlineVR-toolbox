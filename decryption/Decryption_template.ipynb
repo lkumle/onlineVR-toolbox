{
 "cells": [
  {
   "cell_type": "markdown",
   "id": "c7fb6e6d",
   "metadata": {},
   "source": [
    "# Decrypting data files\n",
    "\n",
    "This file is part of the **\"Running Virtual Reality Experiments Online: A Brief Introduction and Tutorial\"** and the accompanying **onlineVR-toolbox**. \n",
    "\n",
    "**Authors:** Levi Kumle, Alfie Brazier, Joel Kovoor, Johannes Keil, Anna C. Nobre & Dejan Draschkow\n",
    "\n",
    "**last edited:** 08/05/2025\n",
    "\n",
    "---\n",
    "---\n",
    "for further details, see: \n",
    "\n",
    "- [onlineVR-toolbox](https://github.com/lkumle/onlineVR-toolbox)  \n",
    "\n",
    "- [Step-by-step Notebooks](https://lkumle.github.io/onlineVRtoolbox_tutorials/)\n",
    "\n",
    "- [Tutorial paper]()\n",
    "\n",
    "\n",
    "---\n",
    "---\n",
    "\n",
    "\n",
    "### What is this script doing?\n",
    "This script handles the decryption of data recieved from the unity template task using AES-CBC. \n",
    "\n",
    "1.  **Set up:** configure script by specifying details needed for decrytion \n",
    "2.  **Load decryption fucntion:** The decrypt_aes function decrypts data that was encrypted using the AES algorithm in CBC mode, with padding applied using the PKCS7 scheme.\n",
    "3.  **Apply decryption to all file:** load in file, decrypt, decode from bytes to text, and save as csv\n",
    "\n",
    "---\n",
    "---\n",
    "\n",
    "### How to use this script:\n",
    "\n",
    "1. Add the **encrytion key** used to encrypt data within the VR task\n",
    "2. Specify file paths: \n",
    "    - **file_path_in:** location of encrypted files\n",
    "    - **file_path_out:** where should decrypted files be stored?\n",
    "  \n",
    "  \n",
    "3. Run the rest of the script. \n",
    "    "
   ]
  },
  {
   "cell_type": "code",
   "execution_count": 2,
   "id": "6456c6a1",
   "metadata": {},
   "outputs": [],
   "source": [
    "# load libraries\n",
    "import os\n",
    "import struct # for bytewise operations\n",
    "from cryptography.hazmat.primitives.ciphers import Cipher, algorithms, modes \n",
    "from cryptography.hazmat.primitives import padding"
   ]
  },
  {
   "cell_type": "markdown",
   "id": "e4e280da",
   "metadata": {},
   "source": [
    "---\n",
    "---\n",
    "## 1. Set up:  encryption key and file paths"
   ]
  },
  {
   "cell_type": "code",
   "execution_count": 13,
   "id": "140b1ce1",
   "metadata": {},
   "outputs": [],
   "source": [
    "# SET UP ------------------------------------------ #\n",
    "# Define decryption key, IV, and file paths\n",
    "encryption_key = b\"tutorial-example\"  # Must be 16, 24, or 32 bytes\n",
    "\n",
    "\n",
    "# where are encrypted data files saved?\n",
    "file_path_in = \"...\"\n",
    "# where to store decrypted data files?\n",
    "file_path_out = \"...\""
   ]
  },
  {
   "cell_type": "markdown",
   "id": "2d6d02f0",
   "metadata": {},
   "source": [
    "---\n",
    "---\n",
    "##  2. Define decryption function\n",
    "\n",
    "Simply run this cell. "
   ]
  },
  {
   "cell_type": "code",
   "execution_count": 10,
   "id": "cd60babf",
   "metadata": {},
   "outputs": [],
   "source": [
    "# Function to decrypt AES-CBC encrypted data\n",
    "def decrypt_aes(encrypted_data, key, iv_length = 16):\n",
    "    \n",
    "    \"\"\"\n",
    "    Decrypts AES-CBC encrypted data and removes the padding using PKCS7.\n",
    "\n",
    "    This function decrypts the provided encrypted data using the AES algorithm\n",
    "    in CBC (Cipher Block Chaining) mode, then removes the padding that was \n",
    "    added during encryption using the PKCS7 padding scheme.\n",
    "\n",
    "    Parameters:\n",
    "    - encrypted_data (bytes): The encrypted data to be decrypted.\n",
    "    - key (bytes): The AES encryption key (must be 16 bytes for AES-128).\n",
    "    - iv_lengths (int): Lengths of random AES initialization vector (IV). \n",
    "\n",
    "    Returns:\n",
    "    - bytes: The decrypted data with padding removed, i.e., the original plaintext.\n",
    "    \n",
    "    \"\"\"\n",
    "    \n",
    "    # Extract the IV from the beginning of the encrypted data\n",
    "    iv = encrypted_data[:iv_length]\n",
    "\n",
    "    # Remove the IV from the encrypted data\n",
    "    data = encrypted_data[iv_length:]\n",
    "    \n",
    "    # Initialize the cipher for decryption using AES-CBC mode with provided key and IV\n",
    "    cipher = Cipher(algorithms.AES(key), modes.CBC(iv))\n",
    "    decryptor = cipher.decryptor()\n",
    "    \n",
    "    # Decrypt the data\n",
    "    decrypted_padded = decryptor.update(data) + decryptor.finalize()\n",
    "    \n",
    "    # Remove padding using PKCS7\n",
    "    unpadder = padding.PKCS7(128).unpadder() #128 referrs to block size used by AES encryption\n",
    "    decrypted_data = unpadder.update(decrypted_padded) + unpadder.finalize()\n",
    "    \n",
    "    return decrypted_data "
   ]
  },
  {
   "cell_type": "markdown",
   "id": "acc4860b",
   "metadata": {},
   "source": [
    "---\n",
    "---\n",
    "## 3. Load, decrypt, and save data\n",
    "\n",
    "The code below goes through al files found in file_path_in, loads and decrypts the file, before saving it to file_path_out as a .csv\n"
   ]
  },
  {
   "cell_type": "code",
   "execution_count": null,
   "id": "544dee1d",
   "metadata": {},
   "outputs": [],
   "source": [
    "# list all files in file_path_in\n",
    "files = os.listdir(file_path_in)\n",
    "\n",
    "# go through all files\n",
    "for file in files:\n",
    "    \n",
    "    print(\"Decrypting:  \"  + file) # quick update\n",
    "    \n",
    "    # specify path to file\n",
    "    file_path_data = f\"{file_path_in}/{file}\"\n",
    "\n",
    "    # 1. Load encrypted data\n",
    "    with open(file_path_data, \"rb\") as f:\n",
    "        encrypted_data = f.read()\n",
    "\n",
    "    # 2. decrypt (returns decrypted data as binary)\n",
    "    decrypted_data = decrypt_aes(encrypted_data,encryption_key, )\n",
    "\n",
    "\n",
    "    # 3. Convert to text (from bytes)\n",
    "    decrypted_text = decrypted_data.decode(\"utf-8\")\n",
    "\n",
    "\n",
    "    # 4. save as csv\n",
    "    file_name_out = file.replace(\".bytes\", \".csv\") \n",
    "    file_path_data_out = file_path_out + file_name_out  \n",
    "    \n",
    "    with open(file_path_data_out, \"w\", encoding=\"utf-8\") as f:\n",
    "        f.write(decrypted_text)\n",
    "    "
   ]
  }
 ],
 "metadata": {
  "kernelspec": {
   "display_name": "Python 3 (ipykernel)",
   "language": "python",
   "name": "python3"
  },
  "language_info": {
   "codemirror_mode": {
    "name": "ipython",
    "version": 3
   },
   "file_extension": ".py",
   "mimetype": "text/x-python",
   "name": "python",
   "nbconvert_exporter": "python",
   "pygments_lexer": "ipython3",
   "version": "3.9.13"
  }
 },
 "nbformat": 4,
 "nbformat_minor": 5
}
